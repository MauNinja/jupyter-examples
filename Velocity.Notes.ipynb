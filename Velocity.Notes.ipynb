{
 "cells": [
  {
   "cell_type": "markdown",
   "id": "fc85ee6c-9f74-4b3e-ad2e-52b6861ddb88",
   "metadata": {},
   "source": [
    "### 5)How to comment on multiple lines in python?"
   ]
  },
  {
   "cell_type": "markdown",
   "id": "cff32003-4ef8-4bfb-95f4-937ba6af634b",
   "metadata": {},
   "source": [
    "#2)Multiline Comments\n",
    "#written in \n",
    "#more than one line"
   ]
  },
  {
   "cell_type": "code",
   "execution_count": null,
   "id": "9140c28c-01ce-4fef-a380-6b03fe3499ac",
   "metadata": {},
   "outputs": [],
   "source": [
    "\"\"\" Python program to demonstrate \n",
    " multiline comments\"\"\"\n",
    "print('Hello World')"
   ]
  },
  {
   "cell_type": "code",
   "execution_count": null,
   "id": "7096f022-f5dc-4795-a7ff-00d41e927b22",
   "metadata": {},
   "outputs": [],
   "source": [
    "#Python ignores the string literals that are not assigned to a variable so we can use these string literals as Python Comments. \n",
    "'This will be ignored by Python'\n",
    "\n",
    "#4. Docstring\n",
    "Python docstring is the string literals with triple quotes that are appeared right after the function.\n",
    "It is used to associate documentation that has been written with Python modules, functions, classes, and methods.\n",
    "def multiply(a, b): \n",
    "    \"\"\"Multiplies the value of a and b\"\"\"\n",
    "    return a*b \n",
    "# Print the docstring of multiply function \n",
    "print(multiply.__doc__) "
   ]
  },
  {
   "cell_type": "markdown",
   "id": "c216a7ee-0aad-400e-b4a9-bcaaf137cf78",
   "metadata": {},
   "source": [
    "### 10.print every character of a string entered by the user in a new line using a loop"
   ]
  },
  {
   "cell_type": "code",
   "execution_count": 6,
   "id": "d5774928-3256-419a-965a-39fdd49f1e9f",
   "metadata": {},
   "outputs": [
    {
     "name": "stdin",
     "output_type": "stream",
     "text": [
      "enter a name: sushama\n"
     ]
    },
    {
     "name": "stdout",
     "output_type": "stream",
     "text": [
      "s\n",
      "u\n",
      "s\n",
      "h\n",
      "a\n",
      "m\n",
      "a\n"
     ]
    }
   ],
   "source": [
    "user = (input(\"enter a name:\"))\n",
    "for char in user:\n",
    "    print(char)"
   ]
  },
  {
   "cell_type": "markdown",
   "id": "66ae509f-ddeb-4a3a-a98a-afb564a04f30",
   "metadata": {},
   "source": [
    "### 11.find the length of the string \"machine learning\" with and without using len function."
   ]
  },
  {
   "cell_type": "code",
   "execution_count": 17,
   "id": "01774701-a869-445c-b790-f77f34c62ba6",
   "metadata": {},
   "outputs": [
    {
     "name": "stdout",
     "output_type": "stream",
     "text": [
      "15\n"
     ]
    }
   ],
   "source": [
    "string_name = \"macine learning\"\n",
    "print(len(string_name))"
   ]
  },
  {
   "cell_type": "code",
   "execution_count": 24,
   "id": "310ca075-2b29-4716-8f52-ab81bfd804be",
   "metadata": {},
   "outputs": [
    {
     "name": "stdout",
     "output_type": "stream",
     "text": [
      "1\n",
      "2\n",
      "3\n",
      "4\n",
      "5\n",
      "6\n",
      "7\n",
      "8\n",
      "9\n",
      "10\n",
      "11\n",
      "12\n",
      "13\n",
      "14\n",
      "15\n"
     ]
    }
   ],
   "source": [
    "string_name = \"macine learning\"\n",
    "a=0\n",
    "for letter in string_name:\n",
    "    a+=1\n",
    "    print(a)"
   ]
  },
  {
   "cell_type": "markdown",
   "id": "8129f6bb-f712-4ad6-a89d-a3f57b1d7652",
   "metadata": {},
   "source": [
    "### 12.check if the word 'orange' is present in the \"This is orange juice\""
   ]
  },
  {
   "cell_type": "code",
   "execution_count": 56,
   "id": "e3976ca5-8dfe-4c10-84fe-e9db4dce7aa5",
   "metadata": {},
   "outputs": [
    {
     "name": "stdout",
     "output_type": "stream",
     "text": [
      "'orange' is present in a.\n"
     ]
    }
   ],
   "source": [
    "a = \"this is orange juice\"\n",
    "word=\"orange\"\n",
    "if word in a:\n",
    "    print(f\"'{word}' is present in a.\")\n",
    "else:\n",
    "    print(f\"'{word}' is not present in a.\")"
   ]
  },
  {
   "cell_type": "markdown",
   "id": "95583e2f-c187-48a7-8a64-7ec27ea99dc7",
   "metadata": {},
   "source": [
    "### 13.find the number of vowels, consonants, digits, and white space characters in a string"
   ]
  },
  {
   "cell_type": "code",
   "execution_count": 86,
   "id": "607811a2-d48b-4d01-8edc-9150b7031e08",
   "metadata": {},
   "outputs": [
    {
     "name": "stdout",
     "output_type": "stream",
     "text": [
      "Number of vowels: 3\n",
      "Number of consonants: 7\n",
      "Number of digits: 3\n",
      "Number of whitespace characters: 2\n"
     ]
    }
   ],
   "source": [
    "text = \"Hello, World! 123\"\n",
    "vowel_count = 0\n",
    "consonant_count = 0\n",
    "digit_count = 0\n",
    "whitespace_count = 0\n",
    "for char in text:\n",
    "    if char in 'aeiouAEIOU':\n",
    "        vowel_count += 1\n",
    "        \n",
    "    elif char in 'bcdfghjklmnpqrstvwxyzBCDFGHJKLMNPQRSTVWXYZ':\n",
    "        consonant_count += 1\n",
    "    elif char.isdigit():\n",
    "        digit_count += 1\n",
    "    elif char.isspace():\n",
    "        whitespace_count += 1\n",
    "\n",
    "print(f\"Number of vowels: {vowels}\")\n",
    "print(f\"Number of consonants: {consonants}\")\n",
    "print(f\"Number of digits: {digits}\")\n",
    "print(f\"Number of whitespace characters: {whitespace}\")"
   ]
  },
  {
   "cell_type": "code",
   "execution_count": 92,
   "id": "892515dc-ba0c-43e6-ba7c-2c7c9b9b1504",
   "metadata": {},
   "outputs": [],
   "source": [
    "def find_the_numbers(text):\n",
    "    vowel_count = 0\n",
    "    consonant_count = 0\n",
    "    digit_count = 0\n",
    "    whitespace_count = 0\n",
    "    for char in text:\n",
    "        if char in 'aeiouAEIOU':\n",
    "            vowel_count += 1\n",
    "        elif char in 'bcdfghjklmnpqrstvwxyzBCDFGHJKLMNPQRSTVWXYZ':\n",
    "            consonant_count += 1\n",
    "        elif char.isdigit():\n",
    "            digit_count += 1\n",
    "        elif char.isspace():\n",
    "            whitespace_count += 1\n",
    "    \n",
    "    print(f\"Number of vowels: {vowels}\")\n",
    "    print(f\"Number of consonants: {consonants}\")\n",
    "    print(f\"Number of digits: {digits}\")\n",
    "    print(f\"Number of whitespace characters: {whitespace}\")"
   ]
  },
  {
   "cell_type": "code",
   "execution_count": 93,
   "id": "4272d7e9-4dca-4773-b9bd-e6609ffb268d",
   "metadata": {},
   "outputs": [
    {
     "name": "stdout",
     "output_type": "stream",
     "text": [
      "Number of vowels: 3\n",
      "Number of consonants: 7\n",
      "Number of digits: 3\n",
      "Number of whitespace characters: 2\n"
     ]
    }
   ],
   "source": [
    "find_the_numbers(\"Hello, World! 123\")"
   ]
  },
  {
   "cell_type": "markdown",
   "id": "356117e6-4d88-436a-9489-e0059a74ed8a",
   "metadata": {},
   "source": [
    "### 14. Write a Python program to count Uppercase, Lowercase, special character, and numeric values in a given string."
   ]
  },
  {
   "cell_type": "code",
   "execution_count": 142,
   "id": "5cf3e215-e23d-4e87-89c2-33d508d6df56",
   "metadata": {},
   "outputs": [],
   "source": [
    "def find_the_count(count):\n",
    "    uppercase_count = 0\n",
    "    lowercase_count = 0\n",
    "    numeric_values_count = 0\n",
    "    special_character_count = 0\n",
    "    \n",
    "    for value in count:\n",
    "        if value.isupper():\n",
    "            uppercase_count += 1\n",
    "        elif value.islower():\n",
    "            lowercase_count += 1\n",
    "        elif value.isdigit():\n",
    "            numeric_values_count += 1\n",
    "        else:\n",
    "            special_character_count += 1\n",
    "            \n",
    "        \n",
    "    print(f\"count of Uppercase: {uppercase_count}\")\n",
    "    print(f\"count of Lowercase: {lowercase_count}\")\n",
    "    print(f\"count of special character: {special_character_count}\")\n",
    "    print(f\"count of numeric values: {numeric_values_count}\")\n"
   ]
  },
  {
   "cell_type": "code",
   "execution_count": 143,
   "id": "6377619f-d5bb-4c37-9403-eaf041b73f7a",
   "metadata": {},
   "outputs": [
    {
     "name": "stdout",
     "output_type": "stream",
     "text": [
      "count of Uppercase: 5\n",
      "count of Lowercase: 9\n",
      "count of special character: 2\n",
      "count of numeric values: 4\n"
     ]
    }
   ],
   "source": [
    "find_the_count(\"D#Sushs01fOr@gEEks07\")"
   ]
  },
  {
   "cell_type": "markdown",
   "id": "da1554c0-d1de-4e1e-9f14-832d105ed868",
   "metadata": {},
   "source": [
    "### 15. Write a program to make a new string with all the consonants deleted from the string \"Hello, have a good day\".\n"
   ]
  },
  {
   "cell_type": "code",
   "execution_count": 11,
   "id": "c0c21883-3be4-4402-ad8f-0880e7917b74",
   "metadata": {},
   "outputs": [
    {
     "name": "stdout",
     "output_type": "stream",
     "text": [
      "eo, ae a oo y\n"
     ]
    }
   ],
   "source": [
    "my_msg = \"Hello, have a good day\"\n",
    "print(my_msg.replace('Hello, have a good day', 'eo, ae a oo y'))"
   ]
  },
  {
   "cell_type": "markdown",
   "id": "c230b947-7eab-4dbc-9e96-61ceccbc12fa",
   "metadata": {},
   "source": [
    "### 16. Write a Python program to remove the nth index character from a non-empty string."
   ]
  },
  {
   "cell_type": "code",
   "execution_count": 14,
   "id": "ec7d39e3-930a-4352-9023-a1d668a30b16",
   "metadata": {},
   "outputs": [
    {
     "name": "stdout",
     "output_type": "stream",
     "text": [
      "Updated string =  How are yu?\n"
     ]
    }
   ],
   "source": [
    "myStr = \"How are you?\"\n",
    "n = 9\n",
    "newStr = ''\n",
    "for char in range(0, len(myStr)):\n",
    "\n",
    "\tif(char != n):\n",
    "\t\t\n",
    "\t\tnewStr += myStr[char]\n",
    "\t\t\n",
    "print(\"Updated string = \",newStr)"
   ]
  },
  {
   "cell_type": "markdown",
   "id": "327185fa-c84b-4d3d-91a7-94cb0ab3b43b",
   "metadata": {},
   "source": [
    "### 17. Write a Python program to change a given string to a new string where the first and last characters have been exchanged."
   ]
  },
  {
   "cell_type": "code",
   "execution_count": 5,
   "id": "4c725d60-a0e3-4b4a-bbaa-d9f92ce669b4",
   "metadata": {},
   "outputs": [
    {
     "name": "stdout",
     "output_type": "stream",
     "text": [
      "dharas\n"
     ]
    }
   ],
   "source": [
    "name = \"sharad\"\n",
    "print(name.replace(\"sharad\",\"dharas\"))"
   ]
  },
  {
   "cell_type": "code",
   "execution_count": 36,
   "id": "ad233da6-c626-4d3a-8f94-e4f5ba87d29e",
   "metadata": {},
   "outputs": [],
   "source": [
    "def swap(string):\n",
    "    \n",
    "    start = string[0]\n",
    "    end = string[-1]\n",
    "\n",
    "    swapped_string = end + string[1:-1] + start\n",
    "    print(swapped_string)"
   ]
  },
  {
   "cell_type": "code",
   "execution_count": 38,
   "id": "907802e7-d9c6-4f47-bdd7-501fe10a269f",
   "metadata": {},
   "outputs": [
    {
     "name": "stdout",
     "output_type": "stream",
     "text": [
      "aushams\n"
     ]
    }
   ],
   "source": [
    "swap(\"sushama\")"
   ]
  },
  {
   "cell_type": "markdown",
   "id": "efbdde06-a002-4d7f-9bbc-4a8a3a2a9905",
   "metadata": {},
   "source": [
    "#### 18. Write a Python program to count the occurrences of each word in a given sentence."
   ]
  },
  {
   "cell_type": "code",
   "execution_count": 22,
   "id": "db839f60-20fc-4f25-a0ac-b8a652cbb109",
   "metadata": {},
   "outputs": [
    {
     "name": "stdout",
     "output_type": "stream",
     "text": [
      "{'this': 2, 'is': 2, 'good': 1, 'and': 1, 'bad': 1}\n"
     ]
    }
   ],
   "source": [
    "sentence = \"this is good and this is bad\"\n",
    "words = sentence.split()\n",
    "word_count = {}\n",
    "for word in words:\n",
    "    if word in word_count:\n",
    "        word_count[word] += 1  \n",
    "    else:\n",
    "        word_count[word] = 1   \n",
    "print(word_count)"
   ]
  },
  {
   "cell_type": "code",
   "execution_count": 29,
   "id": "88b32b17-76cd-4544-a31d-e256e35ad83d",
   "metadata": {},
   "outputs": [
    {
     "name": "stdout",
     "output_type": "stream",
     "text": [
      "{'this': 2, 'is': 2, 'good': 1, 'and': 1, 'bad': 1}\n"
     ]
    }
   ],
   "source": [
    "sentence = \"this is good and this is bad\"\n",
    "words = sentence.split()\n",
    "word_count = {}\n",
    "for word in words:\n",
    "   word_count[word] = word_count.get(word, 0) + 1\n",
    "print(word_count)"
   ]
  },
  {
   "cell_type": "markdown",
   "id": "9d1b7773-2a60-4b8b-b6c0-718bf897be0a",
   "metadata": {},
   "source": [
    "### 19. How do you count the occurrence of a given character in a string?"
   ]
  },
  {
   "cell_type": "code",
   "execution_count": 68,
   "id": "5ae9551c-ddb3-4262-8886-32617508c284",
   "metadata": {},
   "outputs": [
    {
     "name": "stdout",
     "output_type": "stream",
     "text": [
      "{'s': 3, 'u': 2, 'h': 1, 'd': 2, 'k': 2, 'a': 1, 'l': 2}\n"
     ]
    }
   ],
   "source": [
    "sentence = \"ssuuhddkkalls\"\n",
    "all_char = {}\n",
    "for i in sentence:\n",
    "    if i in all_char:\n",
    "        all_char[i] += 1\n",
    "    else:\n",
    "        all_char[i] = 1\n",
    "print(str(all_char))"
   ]
  },
  {
   "cell_type": "markdown",
   "id": "cc6a3069-b94a-40f6-af2e-64ef2bbe41c0",
   "metadata": {},
   "source": [
    "### 20. Write a program to find last 10 characters of a string?"
   ]
  },
  {
   "cell_type": "code",
   "execution_count": 107,
   "id": "5d962fa6-8ec3-46f9-ba99-9a988d1025cc",
   "metadata": {},
   "outputs": [
    {
     "name": "stdout",
     "output_type": "stream",
     "text": [
      "charachter\n"
     ]
    }
   ],
   "source": [
    "string1 = \"find last charachter\"\n",
    "print(string1[-10:])"
   ]
  },
  {
   "cell_type": "markdown",
   "id": "b23a1a93-00f8-4b1e-8059-e250ef0c9d5d",
   "metadata": {},
   "source": [
    "### 21. WAP to convert a given string to all uppercase if it contains at least 2 uppercase characters in the first 4 characters."
   ]
  },
  {
   "cell_type": "code",
   "execution_count": 116,
   "id": "017e3aba-8a1d-4965-8e36-0334103a8529",
   "metadata": {},
   "outputs": [
    {
     "name": "stdin",
     "output_type": "stream",
     "text": [
      "Enter the String : ComPuTeR\n"
     ]
    },
    {
     "name": "stdout",
     "output_type": "stream",
     "text": [
      "COMPUTER\n",
      "ComPuTeR\n"
     ]
    }
   ],
   "source": [
    "str = input(\"Enter the String :\")\n",
    "num_upper = 0\n",
    "for letter in str[:4]: \n",
    "\tif letter.upper() == letter:\n",
    "\t\tnum_upper += 1\n",
    "if num_upper >= 2:\n",
    "\tprint(str.upper())\n",
    "print(str)"
   ]
  },
  {
   "cell_type": "markdown",
   "id": "96e0ae30-c8e3-44d3-a64a-a6148193f1a0",
   "metadata": {},
   "source": [
    "### 22. Write a Python program to remove a newline in Python."
   ]
  },
  {
   "cell_type": "code",
   "execution_count": 7,
   "id": "9ec4e99c-fe3f-4098-aa0e-22cad8344d17",
   "metadata": {},
   "outputs": [
    {
     "name": "stdout",
     "output_type": "stream",
     "text": [
      "Original text: 'Hello, world!\\n'\n",
      "Cleaned text: 'Hello, world!'\n"
     ]
    }
   ],
   "source": [
    "newline = \"Hello, world!\\n\"\n",
    "cleaned_text = newline.strip()\n",
    "print(\"Original text:\", repr(newline))\n",
    "print(\"Cleaned text:\", repr(cleaned_text))"
   ]
  },
  {
   "cell_type": "code",
   "execution_count": 9,
   "id": "43583a95-09f5-4ce8-a948-7f0fdde18461",
   "metadata": {},
   "outputs": [
    {
     "name": "stdout",
     "output_type": "stream",
     "text": [
      "'hi i am sushama'\n"
     ]
    }
   ],
   "source": [
    "text = \"hi i am sushama\\n\"\n",
    "corrected_line = text.rstrip()\n",
    "print(repr(corrected_line))"
   ]
  },
  {
   "cell_type": "code",
   "execution_count": 8,
   "id": "e7565b24-f67d-4a1f-bede-5b2678b2e321",
   "metadata": {},
   "outputs": [
    {
     "name": "stdout",
     "output_type": "stream",
     "text": [
      "Hello, world!\n",
      "\n"
     ]
    }
   ],
   "source": [
    "text_with_newline = \"Hello, world!\\n\"\n",
    "cleaned_text = text_with_newline.replace(\"\\n\", \"\")\n",
    "print(text_with_newline)"
   ]
  },
  {
   "cell_type": "markdown",
   "id": "62215082-fd67-40cc-ba37-95a353fcea32",
   "metadata": {},
   "source": [
    "### 23. Write a Python program to swap commas and dots in a string\n",
    "○ Sample string: \"32.054,23\"\n",
    "○ Expected Output: \"32,054.23\""
   ]
  },
  {
   "cell_type": "code",
   "execution_count": 36,
   "id": "5299a5bb-d9ae-47bc-b615-149f6e17c7a4",
   "metadata": {},
   "outputs": [
    {
     "name": "stdout",
     "output_type": "stream",
     "text": [
      "32,054.23\n"
     ]
    }
   ],
   "source": [
    "string3 = \"32.054,23\"\n",
    "swap_string = string3.replace(\"32.054,23\", \"32,054.23\")\n",
    "print(swap_string)"
   ]
  },
  {
   "cell_type": "code",
   "execution_count": 6,
   "id": "472a49a4-7863-43d2-b252-6fcfcd2513cb",
   "metadata": {},
   "outputs": [
    {
     "name": "stdout",
     "output_type": "stream",
     "text": [
      "update string : 32,054.23\n"
     ]
    }
   ],
   "source": [
    "string4 = \"32.054,23\"\n",
    "maketrans = string4.maketrans\n",
    "string4 = string4.translate(maketrans(',.' , '.,'))\n",
    "print(\"update string :\" , string4)\n"
   ]
  },
  {
   "cell_type": "markdown",
   "id": "5a0dd64a-d164-46a7-ba61-2c9ad866da61",
   "metadata": {},
   "source": [
    "### 24. Write a Python program to find the first repeated character in a given string"
   ]
  },
  {
   "cell_type": "code",
   "execution_count": 36,
   "id": "894b9f85-48c0-44f9-8692-227adf8c6856",
   "metadata": {},
   "outputs": [
    {
     "name": "stdout",
     "output_type": "stream",
     "text": [
      "the first repeated charechate :'sushama sumb'\n"
     ]
    }
   ],
   "source": [
    "l = \"sushama sumb\"\n",
    "seen = set()\n",
    "first_repeated = None\n",
    "for i in l:\n",
    "    if i in seen:\n",
    "        first_repeated = i\n",
    "        break\n",
    "        seen.add(i)\n",
    "print(f\"the first repeated charechate :'{l}'\")"
   ]
  },
  {
   "cell_type": "markdown",
   "id": "2ced3f43-9291-4d75-b7ec-43472eca5d43",
   "metadata": {},
   "source": [
    "### 25. Write a Python program to find the second most repeated word in a given string"
   ]
  },
  {
   "cell_type": "code",
   "execution_count": 38,
   "id": "3ffe4f00-37e7-4882-b903-f07ff526a455",
   "metadata": {},
   "outputs": [
    {
     "name": "stdout",
     "output_type": "stream",
     "text": [
      "The second most repeated word is: apple\n"
     ]
    }
   ],
   "source": [
    "# Given string\n",
    "input_string = \"apple banana apple orange banana apple banana orange orange\"\n",
    "\n",
    "# Split the string into words\n",
    "words = input_string.split()\n",
    "\n",
    "# Create an empty dictionary to store the frequency of each word\n",
    "word_counts = {}\n",
    "\n",
    "# Count how many times each word appears in the list\n",
    "for word in words:\n",
    "    if word in word_counts:\n",
    "        word_counts[word] += 1  # If the word is already in the dictionary, increase its count\n",
    "    else:\n",
    "        word_counts[word] = 1   # If the word is not in the dictionary, add it with a count of 1\n",
    "\n",
    "# Create a list of the word frequencies (values) sorted in descending order\n",
    "sorted_word_counts = sorted(word_counts.values(), reverse=True)\n",
    "\n",
    "# Check if there are at least two different words\n",
    "if len(sorted_word_counts) < 2:\n",
    "    print(\"There isn't a second most repeated word.\")\n",
    "else:\n",
    "    # Find the second highest frequency\n",
    "    second_highest_frequency = sorted_word_counts[1]\n",
    "    \n",
    "    # Find the word(s) that match this second highest frequency\n",
    "    for word, count in word_counts.items():\n",
    "        if count == second_highest_frequency:\n",
    "            print(\"The second most repeated word is:\", word)\n",
    "            break  # Stop after finding the first one"
   ]
  },
  {
   "cell_type": "code",
   "execution_count": null,
   "id": "1839dc0b-5cde-405e-b726-7da54ca31247",
   "metadata": {},
   "outputs": [],
   "source": []
  },
  {
   "cell_type": "code",
   "execution_count": null,
   "id": "156f0f54-0638-4746-ad37-22647139085e",
   "metadata": {},
   "outputs": [],
   "source": []
  }
 ],
 "metadata": {
  "kernelspec": {
   "display_name": "Python 3 (ipykernel)",
   "language": "python",
   "name": "python3"
  },
  "language_info": {
   "codemirror_mode": {
    "name": "ipython",
    "version": 3
   },
   "file_extension": ".py",
   "mimetype": "text/x-python",
   "name": "python",
   "nbconvert_exporter": "python",
   "pygments_lexer": "ipython3",
   "version": "3.12.1"
  }
 },
 "nbformat": 4,
 "nbformat_minor": 5
}
